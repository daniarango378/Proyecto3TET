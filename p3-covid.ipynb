{
 "cells": [
  {
   "cell_type": "code",
   "execution_count": 20,
   "id": "8bd602bf-463c-4eb3-81b5-ddb951791515",
   "metadata": {
    "tags": []
   },
   "outputs": [
    {
     "name": "stdout",
     "output_type": "stream",
     "text": [
      "Requirement already satisfied: pandas in /home/ec2-user/anaconda3/envs/python3/lib/python3.10/site-packages (1.5.3)\n",
      "Requirement already satisfied: matplotlib in /home/ec2-user/anaconda3/envs/python3/lib/python3.10/site-packages (3.9.2)\n",
      "Requirement already satisfied: seaborn in /home/ec2-user/anaconda3/envs/python3/lib/python3.10/site-packages (0.13.2)\n",
      "Requirement already satisfied: pyarrow in /home/ec2-user/anaconda3/envs/python3/lib/python3.10/site-packages (17.0.0)\n",
      "Requirement already satisfied: s3fs in /home/ec2-user/anaconda3/envs/python3/lib/python3.10/site-packages (0.4.2)\n",
      "Collecting awswrangler\n",
      "  Downloading awswrangler-3.10.0-py3-none-any.whl.metadata (17 kB)\n",
      "Requirement already satisfied: python-dateutil>=2.8.1 in /home/ec2-user/anaconda3/envs/python3/lib/python3.10/site-packages (from pandas) (2.9.0)\n",
      "Requirement already satisfied: pytz>=2020.1 in /home/ec2-user/anaconda3/envs/python3/lib/python3.10/site-packages (from pandas) (2024.2)\n",
      "Requirement already satisfied: numpy>=1.21.0 in /home/ec2-user/anaconda3/envs/python3/lib/python3.10/site-packages (from pandas) (1.26.4)\n",
      "Requirement already satisfied: contourpy>=1.0.1 in /home/ec2-user/anaconda3/envs/python3/lib/python3.10/site-packages (from matplotlib) (1.3.0)\n",
      "Requirement already satisfied: cycler>=0.10 in /home/ec2-user/anaconda3/envs/python3/lib/python3.10/site-packages (from matplotlib) (0.12.1)\n",
      "Requirement already satisfied: fonttools>=4.22.0 in /home/ec2-user/anaconda3/envs/python3/lib/python3.10/site-packages (from matplotlib) (4.54.1)\n",
      "Requirement already satisfied: kiwisolver>=1.3.1 in /home/ec2-user/anaconda3/envs/python3/lib/python3.10/site-packages (from matplotlib) (1.4.7)\n",
      "Requirement already satisfied: packaging>=20.0 in /home/ec2-user/anaconda3/envs/python3/lib/python3.10/site-packages (from matplotlib) (21.3)\n",
      "Requirement already satisfied: pillow>=8 in /home/ec2-user/anaconda3/envs/python3/lib/python3.10/site-packages (from matplotlib) (11.0.0)\n",
      "Requirement already satisfied: pyparsing>=2.3.1 in /home/ec2-user/anaconda3/envs/python3/lib/python3.10/site-packages (from matplotlib) (3.2.0)\n",
      "Requirement already satisfied: botocore>=1.12.91 in /home/ec2-user/anaconda3/envs/python3/lib/python3.10/site-packages (from s3fs) (1.35.63)\n",
      "Requirement already satisfied: fsspec>=0.6.0 in /home/ec2-user/anaconda3/envs/python3/lib/python3.10/site-packages (from s3fs) (2024.10.0)\n",
      "Requirement already satisfied: boto3<2.0.0,>=1.20.32 in /home/ec2-user/anaconda3/envs/python3/lib/python3.10/site-packages (from awswrangler) (1.35.63)\n",
      "Requirement already satisfied: typing-extensions<5.0.0,>=4.4.0 in /home/ec2-user/anaconda3/envs/python3/lib/python3.10/site-packages (from awswrangler) (4.12.2)\n",
      "Requirement already satisfied: jmespath<2.0.0,>=0.7.1 in /home/ec2-user/anaconda3/envs/python3/lib/python3.10/site-packages (from boto3<2.0.0,>=1.20.32->awswrangler) (1.0.1)\n",
      "Requirement already satisfied: s3transfer<0.11.0,>=0.10.0 in /home/ec2-user/anaconda3/envs/python3/lib/python3.10/site-packages (from boto3<2.0.0,>=1.20.32->awswrangler) (0.10.3)\n",
      "Requirement already satisfied: urllib3!=2.2.0,<3,>=1.25.4 in /home/ec2-user/anaconda3/envs/python3/lib/python3.10/site-packages (from botocore>=1.12.91->s3fs) (2.2.3)\n",
      "Requirement already satisfied: six>=1.5 in /home/ec2-user/anaconda3/envs/python3/lib/python3.10/site-packages (from python-dateutil>=2.8.1->pandas) (1.16.0)\n",
      "Downloading awswrangler-3.10.0-py3-none-any.whl (378 kB)\n",
      "Installing collected packages: awswrangler\n",
      "Successfully installed awswrangler-3.10.0\n"
     ]
    }
   ],
   "source": [
    "!pip install pandas matplotlib seaborn pyarrow s3fs awswrangler\n"
   ]
  },
  {
   "cell_type": "code",
   "execution_count": 21,
   "id": "61e4fdef-4d71-4464-a077-4e01f9293d31",
   "metadata": {
    "tags": []
   },
   "outputs": [],
   "source": [
    "import boto3\n",
    "import pandas as pd\n",
    "import matplotlib.pyplot as plt\n",
    "import seaborn as sns\n",
    "import pyarrow.dataset as ds\n",
    "from pyarrow import fs\n",
    "import awswrangler as wr\n"
   ]
  },
  {
   "cell_type": "code",
   "execution_count": 22,
   "id": "8f690fc7-7d53-4690-9ae5-3a0b4676c36c",
   "metadata": {
    "tags": []
   },
   "outputs": [],
   "source": [
    "bucket_name = 'p3-tet'  # Reemplaza con el nombre de tu bucket\n",
    "trusted_data_prefix = 'trusted/'\n",
    "s3_path = f's3://{bucket_name}/{trusted_data_prefix}'\n"
   ]
  },
  {
   "cell_type": "code",
   "execution_count": 23,
   "id": "9810dbe2-0e69-451e-bb0a-96bc744debb4",
   "metadata": {
    "tags": []
   },
   "outputs": [],
   "source": [
    "df = wr.s3.read_parquet(path=s3_path)\n"
   ]
  },
  {
   "cell_type": "code",
   "execution_count": 24,
   "id": "0869f168-5093-4aff-bece-e3ed3384825d",
   "metadata": {
    "tags": []
   },
   "outputs": [
    {
     "name": "stdout",
     "output_type": "stream",
     "text": [
      "  fecha_reporte_web  id_caso fecha_notificacion  codigo_divipola_departamento  \\\n",
      "0        2020-06-03        1         2020-02-03                            11   \n",
      "1        2020-09-03        2         2020-06-03                            76   \n",
      "2        2020-09-03        3         2020-07-03                             5   \n",
      "3        2020-11-03        4         2020-09-03                             5   \n",
      "4        2020-11-03        5         2020-09-03                             5   \n",
      "\n",
      "  nombre_departamento  codigo_divipola_municipio nombre_municipio  Edad  \\\n",
      "0              BOGOTA                      11001           BOGOTA    19   \n",
      "1               VALLE                      76111             BUGA    34   \n",
      "2           ANTIOQUIA                       5001         MEDELLIN    50   \n",
      "3           ANTIOQUIA                       5001         MEDELLIN    55   \n",
      "4           ANTIOQUIA                       5001         MEDELLIN    25   \n",
      "\n",
      "   unidad_medida_edad Sexo  ... codigo_iso_pais nombre_pais  Recuperado  \\\n",
      "0                   1    F  ...             380      ITALIA  Recuperado   \n",
      "1                   1    M  ...             724      ESPAÑA  Recuperado   \n",
      "2                   1    F  ...             724      ESPAÑA  Recuperado   \n",
      "3                   1    M  ...            <NA>        <NA>  Recuperado   \n",
      "4                   1    M  ...            <NA>        <NA>  Recuperado   \n",
      "\n",
      "   fecha_inicio_sintomas fecha_muerte fecha_diagnostico fecha_recuperacion  \\\n",
      "0                   None         None        2020-06-03               None   \n",
      "1             2020-04-03         None        2020-09-03               None   \n",
      "2                   None         None        2020-09-03               None   \n",
      "3             2020-06-03         None        2020-11-03               None   \n",
      "4             2020-08-03         None        2020-11-03               None   \n",
      "\n",
      "  tipo_recuperacion pertenencia_etnica nombre_grupo_etnico  \n",
      "0               PCR                  6                <NA>  \n",
      "1               PCR                  5                <NA>  \n",
      "2               PCR                  6                <NA>  \n",
      "3               PCR                  6                <NA>  \n",
      "4               PCR                  6                <NA>  \n",
      "\n",
      "[5 rows x 23 columns]\n",
      "(101000, 23)\n"
     ]
    }
   ],
   "source": [
    "print(df.head())\n",
    "print(df.shape)\n"
   ]
  },
  {
   "cell_type": "code",
   "execution_count": 25,
   "id": "c982bd16-c1f3-4ba6-a7e5-69067dc74d17",
   "metadata": {
    "tags": []
   },
   "outputs": [
    {
     "data": {
      "text/html": [
       "<div>\n",
       "<style scoped>\n",
       "    .dataframe tbody tr th:only-of-type {\n",
       "        vertical-align: middle;\n",
       "    }\n",
       "\n",
       "    .dataframe tbody tr th {\n",
       "        vertical-align: top;\n",
       "    }\n",
       "\n",
       "    .dataframe thead th {\n",
       "        text-align: right;\n",
       "    }\n",
       "</style>\n",
       "<table border=\"1\" class=\"dataframe\">\n",
       "  <thead>\n",
       "    <tr style=\"text-align: right;\">\n",
       "      <th></th>\n",
       "      <th>fecha_reporte_web</th>\n",
       "      <th>id_caso</th>\n",
       "      <th>fecha_notificacion</th>\n",
       "      <th>codigo_divipola_departamento</th>\n",
       "      <th>nombre_departamento</th>\n",
       "      <th>codigo_divipola_municipio</th>\n",
       "      <th>nombre_municipio</th>\n",
       "      <th>Edad</th>\n",
       "      <th>unidad_medida_edad</th>\n",
       "      <th>Sexo</th>\n",
       "      <th>...</th>\n",
       "      <th>codigo_iso_pais</th>\n",
       "      <th>nombre_pais</th>\n",
       "      <th>Recuperado</th>\n",
       "      <th>fecha_inicio_sintomas</th>\n",
       "      <th>fecha_muerte</th>\n",
       "      <th>fecha_diagnostico</th>\n",
       "      <th>fecha_recuperacion</th>\n",
       "      <th>tipo_recuperacion</th>\n",
       "      <th>pertenencia_etnica</th>\n",
       "      <th>nombre_grupo_etnico</th>\n",
       "    </tr>\n",
       "  </thead>\n",
       "  <tbody>\n",
       "    <tr>\n",
       "      <th>0</th>\n",
       "      <td>2020-06-03</td>\n",
       "      <td>1</td>\n",
       "      <td>2020-02-03</td>\n",
       "      <td>11</td>\n",
       "      <td>BOGOTA</td>\n",
       "      <td>11001</td>\n",
       "      <td>BOGOTA</td>\n",
       "      <td>19</td>\n",
       "      <td>1</td>\n",
       "      <td>F</td>\n",
       "      <td>...</td>\n",
       "      <td>380</td>\n",
       "      <td>ITALIA</td>\n",
       "      <td>Recuperado</td>\n",
       "      <td>None</td>\n",
       "      <td>None</td>\n",
       "      <td>2020-06-03</td>\n",
       "      <td>None</td>\n",
       "      <td>PCR</td>\n",
       "      <td>6</td>\n",
       "      <td>&lt;NA&gt;</td>\n",
       "    </tr>\n",
       "    <tr>\n",
       "      <th>1</th>\n",
       "      <td>2020-09-03</td>\n",
       "      <td>2</td>\n",
       "      <td>2020-06-03</td>\n",
       "      <td>76</td>\n",
       "      <td>VALLE</td>\n",
       "      <td>76111</td>\n",
       "      <td>BUGA</td>\n",
       "      <td>34</td>\n",
       "      <td>1</td>\n",
       "      <td>M</td>\n",
       "      <td>...</td>\n",
       "      <td>724</td>\n",
       "      <td>ESPAÑA</td>\n",
       "      <td>Recuperado</td>\n",
       "      <td>2020-04-03</td>\n",
       "      <td>None</td>\n",
       "      <td>2020-09-03</td>\n",
       "      <td>None</td>\n",
       "      <td>PCR</td>\n",
       "      <td>5</td>\n",
       "      <td>&lt;NA&gt;</td>\n",
       "    </tr>\n",
       "    <tr>\n",
       "      <th>2</th>\n",
       "      <td>2020-09-03</td>\n",
       "      <td>3</td>\n",
       "      <td>2020-07-03</td>\n",
       "      <td>5</td>\n",
       "      <td>ANTIOQUIA</td>\n",
       "      <td>5001</td>\n",
       "      <td>MEDELLIN</td>\n",
       "      <td>50</td>\n",
       "      <td>1</td>\n",
       "      <td>F</td>\n",
       "      <td>...</td>\n",
       "      <td>724</td>\n",
       "      <td>ESPAÑA</td>\n",
       "      <td>Recuperado</td>\n",
       "      <td>None</td>\n",
       "      <td>None</td>\n",
       "      <td>2020-09-03</td>\n",
       "      <td>None</td>\n",
       "      <td>PCR</td>\n",
       "      <td>6</td>\n",
       "      <td>&lt;NA&gt;</td>\n",
       "    </tr>\n",
       "    <tr>\n",
       "      <th>3</th>\n",
       "      <td>2020-11-03</td>\n",
       "      <td>4</td>\n",
       "      <td>2020-09-03</td>\n",
       "      <td>5</td>\n",
       "      <td>ANTIOQUIA</td>\n",
       "      <td>5001</td>\n",
       "      <td>MEDELLIN</td>\n",
       "      <td>55</td>\n",
       "      <td>1</td>\n",
       "      <td>M</td>\n",
       "      <td>...</td>\n",
       "      <td>&lt;NA&gt;</td>\n",
       "      <td>&lt;NA&gt;</td>\n",
       "      <td>Recuperado</td>\n",
       "      <td>2020-06-03</td>\n",
       "      <td>None</td>\n",
       "      <td>2020-11-03</td>\n",
       "      <td>None</td>\n",
       "      <td>PCR</td>\n",
       "      <td>6</td>\n",
       "      <td>&lt;NA&gt;</td>\n",
       "    </tr>\n",
       "    <tr>\n",
       "      <th>4</th>\n",
       "      <td>2020-11-03</td>\n",
       "      <td>5</td>\n",
       "      <td>2020-09-03</td>\n",
       "      <td>5</td>\n",
       "      <td>ANTIOQUIA</td>\n",
       "      <td>5001</td>\n",
       "      <td>MEDELLIN</td>\n",
       "      <td>25</td>\n",
       "      <td>1</td>\n",
       "      <td>M</td>\n",
       "      <td>...</td>\n",
       "      <td>&lt;NA&gt;</td>\n",
       "      <td>&lt;NA&gt;</td>\n",
       "      <td>Recuperado</td>\n",
       "      <td>2020-08-03</td>\n",
       "      <td>None</td>\n",
       "      <td>2020-11-03</td>\n",
       "      <td>None</td>\n",
       "      <td>PCR</td>\n",
       "      <td>6</td>\n",
       "      <td>&lt;NA&gt;</td>\n",
       "    </tr>\n",
       "  </tbody>\n",
       "</table>\n",
       "<p>5 rows × 23 columns</p>\n",
       "</div>"
      ],
      "text/plain": [
       "  fecha_reporte_web  id_caso fecha_notificacion  codigo_divipola_departamento  \\\n",
       "0        2020-06-03        1         2020-02-03                            11   \n",
       "1        2020-09-03        2         2020-06-03                            76   \n",
       "2        2020-09-03        3         2020-07-03                             5   \n",
       "3        2020-11-03        4         2020-09-03                             5   \n",
       "4        2020-11-03        5         2020-09-03                             5   \n",
       "\n",
       "  nombre_departamento  codigo_divipola_municipio nombre_municipio  Edad  \\\n",
       "0              BOGOTA                      11001           BOGOTA    19   \n",
       "1               VALLE                      76111             BUGA    34   \n",
       "2           ANTIOQUIA                       5001         MEDELLIN    50   \n",
       "3           ANTIOQUIA                       5001         MEDELLIN    55   \n",
       "4           ANTIOQUIA                       5001         MEDELLIN    25   \n",
       "\n",
       "   unidad_medida_edad Sexo  ... codigo_iso_pais nombre_pais  Recuperado  \\\n",
       "0                   1    F  ...             380      ITALIA  Recuperado   \n",
       "1                   1    M  ...             724      ESPAÑA  Recuperado   \n",
       "2                   1    F  ...             724      ESPAÑA  Recuperado   \n",
       "3                   1    M  ...            <NA>        <NA>  Recuperado   \n",
       "4                   1    M  ...            <NA>        <NA>  Recuperado   \n",
       "\n",
       "   fecha_inicio_sintomas fecha_muerte fecha_diagnostico fecha_recuperacion  \\\n",
       "0                   None         None        2020-06-03               None   \n",
       "1             2020-04-03         None        2020-09-03               None   \n",
       "2                   None         None        2020-09-03               None   \n",
       "3             2020-06-03         None        2020-11-03               None   \n",
       "4             2020-08-03         None        2020-11-03               None   \n",
       "\n",
       "  tipo_recuperacion pertenencia_etnica nombre_grupo_etnico  \n",
       "0               PCR                  6                <NA>  \n",
       "1               PCR                  5                <NA>  \n",
       "2               PCR                  6                <NA>  \n",
       "3               PCR                  6                <NA>  \n",
       "4               PCR                  6                <NA>  \n",
       "\n",
       "[5 rows x 23 columns]"
      ]
     },
     "execution_count": 25,
     "metadata": {},
     "output_type": "execute_result"
    }
   ],
   "source": [
    "df.head()"
   ]
  },
  {
   "cell_type": "code",
   "execution_count": 26,
   "id": "15ecc3dd-282a-4d4d-be61-4aca48c2870f",
   "metadata": {
    "tags": []
   },
   "outputs": [
    {
     "name": "stdout",
     "output_type": "stream",
     "text": [
      "<class 'pandas.core.frame.DataFrame'>\n",
      "RangeIndex: 101000 entries, 0 to 100999\n",
      "Data columns (total 23 columns):\n",
      " #   Column                        Non-Null Count   Dtype \n",
      "---  ------                        --------------   ----- \n",
      " 0   fecha_reporte_web             27428 non-null   object\n",
      " 1   id_caso                       101000 non-null  Int32 \n",
      " 2   fecha_notificacion            34589 non-null   object\n",
      " 3   codigo_divipola_departamento  101000 non-null  Int32 \n",
      " 4   nombre_departamento           101000 non-null  string\n",
      " 5   codigo_divipola_municipio     101000 non-null  Int32 \n",
      " 6   nombre_municipio              101000 non-null  string\n",
      " 7   Edad                          101000 non-null  Int32 \n",
      " 8   unidad_medida_edad            101000 non-null  Int32 \n",
      " 9   Sexo                          101000 non-null  string\n",
      " 10  tipo_contagio                 101000 non-null  string\n",
      " 11  ubicacion_caso                101000 non-null  string\n",
      " 12  Estado                        101000 non-null  string\n",
      " 13  codigo_iso_pais               1389 non-null    Int32 \n",
      " 14  nombre_pais                   1389 non-null    string\n",
      " 15  Recuperado                    101000 non-null  string\n",
      " 16  fecha_inicio_sintomas         36611 non-null   object\n",
      " 17  fecha_muerte                  2160 non-null    object\n",
      " 18  fecha_diagnostico             27222 non-null   object\n",
      " 19  fecha_recuperacion            36676 non-null   object\n",
      " 20  tipo_recuperacion             95782 non-null   string\n",
      " 21  pertenencia_etnica            101000 non-null  Int32 \n",
      " 22  nombre_grupo_etnico           5672 non-null    string\n",
      "dtypes: Int32(7), object(6), string(10)\n",
      "memory usage: 15.7+ MB\n"
     ]
    }
   ],
   "source": [
    "df.info()\n"
   ]
  },
  {
   "cell_type": "code",
   "execution_count": 27,
   "id": "0e6759a4-ed4e-4f95-a901-6d1955e1cf9b",
   "metadata": {
    "tags": []
   },
   "outputs": [
    {
     "data": {
      "text/html": [
       "<div>\n",
       "<style scoped>\n",
       "    .dataframe tbody tr th:only-of-type {\n",
       "        vertical-align: middle;\n",
       "    }\n",
       "\n",
       "    .dataframe tbody tr th {\n",
       "        vertical-align: top;\n",
       "    }\n",
       "\n",
       "    .dataframe thead th {\n",
       "        text-align: right;\n",
       "    }\n",
       "</style>\n",
       "<table border=\"1\" class=\"dataframe\">\n",
       "  <thead>\n",
       "    <tr style=\"text-align: right;\">\n",
       "      <th></th>\n",
       "      <th>id_caso</th>\n",
       "      <th>codigo_divipola_departamento</th>\n",
       "      <th>codigo_divipola_municipio</th>\n",
       "      <th>Edad</th>\n",
       "      <th>unidad_medida_edad</th>\n",
       "      <th>codigo_iso_pais</th>\n",
       "      <th>pertenencia_etnica</th>\n",
       "    </tr>\n",
       "  </thead>\n",
       "  <tbody>\n",
       "    <tr>\n",
       "      <th>count</th>\n",
       "      <td>101000.0</td>\n",
       "      <td>101000.0</td>\n",
       "      <td>101000.0</td>\n",
       "      <td>101000.0</td>\n",
       "      <td>101000.0</td>\n",
       "      <td>1389.0</td>\n",
       "      <td>101000.0</td>\n",
       "    </tr>\n",
       "    <tr>\n",
       "      <th>mean</th>\n",
       "      <td>49548.270842</td>\n",
       "      <td>2618.441495</td>\n",
       "      <td>25363.589693</td>\n",
       "      <td>39.329733</td>\n",
       "      <td>1.006317</td>\n",
       "      <td>611.381569</td>\n",
       "      <td>5.580129</td>\n",
       "    </tr>\n",
       "    <tr>\n",
       "      <th>std</th>\n",
       "      <td>29142.999992</td>\n",
       "      <td>6168.523364</td>\n",
       "      <td>25842.22669</td>\n",
       "      <td>18.407749</td>\n",
       "      <td>0.088551</td>\n",
       "      <td>244.633567</td>\n",
       "      <td>1.17897</td>\n",
       "    </tr>\n",
       "    <tr>\n",
       "      <th>min</th>\n",
       "      <td>1.0</td>\n",
       "      <td>5.0</td>\n",
       "      <td>5001.0</td>\n",
       "      <td>1.0</td>\n",
       "      <td>1.0</td>\n",
       "      <td>32.0</td>\n",
       "      <td>1.0</td>\n",
       "    </tr>\n",
       "    <tr>\n",
       "      <th>25%</th>\n",
       "      <td>24290.75</td>\n",
       "      <td>11.0</td>\n",
       "      <td>8758.0</td>\n",
       "      <td>26.0</td>\n",
       "      <td>1.0</td>\n",
       "      <td>484.0</td>\n",
       "      <td>6.0</td>\n",
       "    </tr>\n",
       "    <tr>\n",
       "      <th>50%</th>\n",
       "      <td>49540.5</td>\n",
       "      <td>25.0</td>\n",
       "      <td>11001.0</td>\n",
       "      <td>36.0</td>\n",
       "      <td>1.0</td>\n",
       "      <td>724.0</td>\n",
       "      <td>6.0</td>\n",
       "    </tr>\n",
       "    <tr>\n",
       "      <th>75%</th>\n",
       "      <td>74790.25</td>\n",
       "      <td>76.0</td>\n",
       "      <td>27001.0</td>\n",
       "      <td>52.0</td>\n",
       "      <td>1.0</td>\n",
       "      <td>826.0</td>\n",
       "      <td>6.0</td>\n",
       "    </tr>\n",
       "    <tr>\n",
       "      <th>max</th>\n",
       "      <td>100040.0</td>\n",
       "      <td>47001.0</td>\n",
       "      <td>99001.0</td>\n",
       "      <td>104.0</td>\n",
       "      <td>3.0</td>\n",
       "      <td>862.0</td>\n",
       "      <td>6.0</td>\n",
       "    </tr>\n",
       "  </tbody>\n",
       "</table>\n",
       "</div>"
      ],
      "text/plain": [
       "            id_caso  codigo_divipola_departamento  codigo_divipola_municipio  \\\n",
       "count      101000.0                      101000.0                   101000.0   \n",
       "mean   49548.270842                   2618.441495               25363.589693   \n",
       "std    29142.999992                   6168.523364                25842.22669   \n",
       "min             1.0                           5.0                     5001.0   \n",
       "25%        24290.75                          11.0                     8758.0   \n",
       "50%         49540.5                          25.0                    11001.0   \n",
       "75%        74790.25                          76.0                    27001.0   \n",
       "max        100040.0                       47001.0                    99001.0   \n",
       "\n",
       "            Edad  unidad_medida_edad  codigo_iso_pais  pertenencia_etnica  \n",
       "count   101000.0            101000.0           1389.0            101000.0  \n",
       "mean   39.329733            1.006317       611.381569            5.580129  \n",
       "std    18.407749            0.088551       244.633567             1.17897  \n",
       "min          1.0                 1.0             32.0                 1.0  \n",
       "25%         26.0                 1.0            484.0                 6.0  \n",
       "50%         36.0                 1.0            724.0                 6.0  \n",
       "75%         52.0                 1.0            826.0                 6.0  \n",
       "max        104.0                 3.0            862.0                 6.0  "
      ]
     },
     "execution_count": 27,
     "metadata": {},
     "output_type": "execute_result"
    }
   ],
   "source": [
    "df.describe()"
   ]
  },
  {
   "cell_type": "code",
   "execution_count": 28,
   "id": "75bec5f9-ee85-42b7-b390-8b5f1c00623b",
   "metadata": {
    "tags": []
   },
   "outputs": [
    {
     "data": {
      "text/plain": [
       "fecha_reporte_web               73572\n",
       "id_caso                             0\n",
       "fecha_notificacion              66411\n",
       "codigo_divipola_departamento        0\n",
       "nombre_departamento                 0\n",
       "codigo_divipola_municipio           0\n",
       "nombre_municipio                    0\n",
       "Edad                                0\n",
       "unidad_medida_edad                  0\n",
       "Sexo                                0\n",
       "tipo_contagio                       0\n",
       "ubicacion_caso                      0\n",
       "Estado                              0\n",
       "codigo_iso_pais                 99611\n",
       "nombre_pais                     99611\n",
       "Recuperado                          0\n",
       "fecha_inicio_sintomas           64389\n",
       "fecha_muerte                    98840\n",
       "fecha_diagnostico               73778\n",
       "fecha_recuperacion              64324\n",
       "tipo_recuperacion                5218\n",
       "pertenencia_etnica                  0\n",
       "nombre_grupo_etnico             95328\n",
       "dtype: int64"
      ]
     },
     "execution_count": 28,
     "metadata": {},
     "output_type": "execute_result"
    }
   ],
   "source": [
    "df.isnull().sum()\n"
   ]
  },
  {
   "cell_type": "code",
   "execution_count": 30,
   "id": "89bef1c8-c0b1-4f5d-a257-d7fd856380be",
   "metadata": {
    "tags": []
   },
   "outputs": [
    {
     "name": "stdout",
     "output_type": "stream",
     "text": [
      "Index(['fecha_reporte_web', 'id_caso', 'fecha_notificacion',\n",
      "       'codigo_divipola_departamento', 'nombre_departamento',\n",
      "       'codigo_divipola_municipio', 'nombre_municipio', 'Edad',\n",
      "       'unidad_medida_edad', 'Sexo', 'tipo_contagio', 'ubicacion_caso',\n",
      "       'Estado', 'codigo_iso_pais', 'nombre_pais', 'Recuperado',\n",
      "       'fecha_inicio_sintomas', 'fecha_muerte', 'fecha_diagnostico',\n",
      "       'fecha_recuperacion', 'tipo_recuperacion', 'pertenencia_etnica',\n",
      "       'nombre_grupo_etnico'],\n",
      "      dtype='object')\n"
     ]
    }
   ],
   "source": [
    "print(df.columns)\n",
    "\n"
   ]
  },
  {
   "cell_type": "code",
   "execution_count": 31,
   "id": "f6b2eb73-ed80-430e-98b0-2cf307982459",
   "metadata": {
    "tags": []
   },
   "outputs": [
    {
     "name": "stdout",
     "output_type": "stream",
     "text": [
      "Index(['fecha_reporte_web', 'id_caso', 'fecha_notificacion',\n",
      "       'codigo_divipola_departamento', 'nombre_departamento',\n",
      "       'codigo_divipola_municipio', 'nombre_municipio', 'edad',\n",
      "       'unidad_medida_edad', 'sexo', 'tipo_contagio', 'ubicacion_caso',\n",
      "       'estado', 'codigo_iso_pais', 'nombre_pais', 'recuperado',\n",
      "       'fecha_inicio_sintomas', 'fecha_muerte', 'fecha_diagnostico',\n",
      "       'fecha_recuperacion', 'tipo_recuperacion', 'pertenencia_etnica',\n",
      "       'nombre_grupo_etnico'],\n",
      "      dtype='object')\n"
     ]
    }
   ],
   "source": [
    "df.columns = df.columns.str.strip().str.lower().str.replace(' ', '_')\n",
    "print(df.columns)\n"
   ]
  },
  {
   "cell_type": "code",
   "execution_count": 32,
   "id": "50689b4e-0964-4f02-8d53-32882f367b43",
   "metadata": {
    "tags": []
   },
   "outputs": [
    {
     "data": {
      "image/png": "[encoded data removed]",
      "text/plain": [
       "<Figure size 1200x800 with 1 Axes>"
      ]
     },
     "metadata": {},
     "output_type": "display_data"
    }
   ],
   "source": [
    "casos_por_departamento = df['nombre_departamento'].value_counts().reset_index()\n",
    "casos_por_departamento.columns = ['Nombre_departamento', 'Número_de_casos']\n",
    "\n",
    "# Crear el gráfico\n",
    "plt.figure(figsize=(12,8))\n",
    "sns.barplot(x='Número_de_casos', y='Nombre_departamento', data=casos_por_departamento)\n",
    "plt.title('Distribución de casos por departamento')\n",
    "plt.xlabel('Número de Casos')\n",
    "plt.ylabel('Departamento')\n",
    "plt.show()\n"
   ]
  },
  {
   "cell_type": "code",
   "execution_count": 34,
   "id": "93bc60a0-904f-4eba-a840-9217a476ec6a",
   "metadata": {
    "tags": []
   },
   "outputs": [
    {
     "data": {
      "image/png": "[encoded data removed]",
      "text/plain": [
       "<Figure size 1000x600 with 1 Axes>"
      ]
     },
     "metadata": {},
     "output_type": "display_data"
    }
   ],
   "source": [
    "plt.figure(figsize=(10,6))\n",
    "sns.histplot(df['edad'], bins=30, kde=True)\n",
    "plt.title('Distribución de edades de casos confirmados')\n",
    "plt.xlabel('Edad')\n",
    "plt.ylabel('Frecuencia')\n",
    "plt.show()\n",
    "\n"
   ]
  },
  {
   "cell_type": "code",
   "execution_count": 35,
   "id": "0ca70673-2cde-415a-8af1-484552442139",
   "metadata": {
    "tags": []
   },
   "outputs": [
    {
     "data": {
      "image/png": "[encoded data removed]",
      "text/plain": [
       "<Figure size 600x600 with 1 Axes>"
      ]
     },
     "metadata": {},
     "output_type": "display_data"
    }
   ],
   "source": [
    "casos_por_sexo = df['sexo'].value_counts().reset_index()\n",
    "casos_por_sexo.columns = ['sexo', 'numero_de_casos']\n",
    "\n",
    "plt.figure(figsize=(6,6))\n",
    "sns.barplot(x='sexo', y='numero_de_casos', data=casos_por_sexo)\n",
    "plt.title('Distribución de casos por sexo')\n",
    "plt.show()\n"
   ]
  },
  {
   "cell_type": "code",
   "execution_count": 36,
   "id": "871f4f68-8f5c-4d60-a876-a7198efc9142",
   "metadata": {
    "tags": []
   },
   "outputs": [
    {
     "data": {
      "image/png": "[encoded data removed]",
      "text/plain": [
       "<Figure size 1200x600 with 1 Axes>"
      ]
     },
     "metadata": {},
     "output_type": "display_data"
    }
   ],
   "source": [
    "df['fecha_reporte_web'] = pd.to_datetime(df['fecha_reporte_web'])\n",
    "casos_por_fecha = df.groupby('fecha_reporte_web').size().reset_index(name='numero_de_casos')\n",
    "\n",
    "plt.figure(figsize=(12,6))\n",
    "sns.lineplot(x='fecha_reporte_web', y='numero_de_casos', data=casos_por_fecha)\n",
    "plt.title('Evolución de casos reportados en el tiempo')\n",
    "plt.xlabel('Fecha')\n",
    "plt.ylabel('Número de casos')\n",
    "plt.show()\n"
   ]
  },
  {
   "cell_type": "code",
   "execution_count": 46,
   "id": "c61bd419-84f4-4376-827c-78ca17eb98af",
   "metadata": {
    "tags": []
   },
   "outputs": [
    {
     "name": "stdout",
     "output_type": "stream",
     "text": [
      "Index(['edad', 'sexo_M', 'estado_Leve', 'estado_N/A',\n",
      "       'tipo_contagio_En estudio', 'tipo_contagio_Importado',\n",
      "       'tipo_contagio_Relacionado'],\n",
      "      dtype='object')\n"
     ]
    }
   ],
   "source": [
    "print(df_ml.columns)\n",
    "\n"
   ]
  },
  {
   "cell_type": "code",
   "execution_count": 47,
   "id": "1dfa150f-696e-47f6-9042-f9db7d61f9fe",
   "metadata": {
    "tags": []
   },
   "outputs": [],
   "source": [
    "\n",
    "df_ml['estado_recuperado'] = (df_ml['estado_Leve'] == 1).astype(int)\n"
   ]
  },
  {
   "cell_type": "code",
   "execution_count": 48,
   "id": "8ffb2418-ff28-41fe-83c9-707f2f5d9ebb",
   "metadata": {
    "tags": []
   },
   "outputs": [
    {
     "name": "stdout",
     "output_type": "stream",
     "text": [
      "1    95315\n",
      "0     5685\n",
      "Name: estado_recuperado, dtype: int64\n"
     ]
    }
   ],
   "source": [
    "print(df_ml['estado_recuperado'].value_counts())\n"
   ]
  },
  {
   "cell_type": "code",
   "execution_count": 49,
   "id": "1c272c16-f4cc-47cb-9aae-62fd8c9040b5",
   "metadata": {
    "tags": []
   },
   "outputs": [],
   "source": [
    "X = df_ml.drop('estado_recuperado', axis=1)\n",
    "y = df_ml['estado_recuperado']\n"
   ]
  },
  {
   "cell_type": "code",
   "execution_count": 50,
   "id": "ce1fe31c-b9cb-4279-9f83-7dff4d7cf1e0",
   "metadata": {
    "tags": []
   },
   "outputs": [],
   "source": [
    "from sklearn.model_selection import train_test_split\n",
    "\n",
    "X_train, X_test, y_train, y_test = train_test_split(X, y, test_size=0.2, random_state=42)\n"
   ]
  },
  {
   "cell_type": "code",
   "execution_count": 51,
   "id": "1031a212-08ed-4419-b8ef-dca85d549c0b",
   "metadata": {
    "tags": []
   },
   "outputs": [
    {
     "name": "stdout",
     "output_type": "stream",
     "text": [
      "Conjunto de entrenamiento: (80800, 7)\n",
      "Conjunto de prueba: (20200, 7)\n"
     ]
    }
   ],
   "source": [
    "print(f\"Conjunto de entrenamiento: {X_train.shape}\")\n",
    "print(f\"Conjunto de prueba: {X_test.shape}\")\n"
   ]
  },
  {
   "cell_type": "code",
   "execution_count": 52,
   "id": "9ca77082-b852-4f5a-a622-ebb6f7087b23",
   "metadata": {
    "tags": []
   },
   "outputs": [
    {
     "data": {
      "text/html": [
       "<style>#sk-container-id-1 {\n",
       "  /* Definition of color scheme common for light and dark mode */\n",
       "  --sklearn-color-text: black;\n",
       "  --sklearn-color-line: gray;\n",
       "  /* Definition of color scheme for unfitted estimators */\n",
       "  --sklearn-color-unfitted-level-0: #fff5e6;\n",
       "  --sklearn-color-unfitted-level-1: #f6e4d2;\n",
       "  --sklearn-color-unfitted-level-2: #ffe0b3;\n",
       "  --sklearn-color-unfitted-level-3: chocolate;\n",
       "  /* Definition of color scheme for fitted estimators */\n",
       "  --sklearn-color-fitted-level-0: #f0f8ff;\n",
       "  --sklearn-color-fitted-level-1: #d4ebff;\n",
       "  --sklearn-color-fitted-level-2: #b3dbfd;\n",
       "  --sklearn-color-fitted-level-3: cornflowerblue;\n",
       "\n",
       "  /* Specific color for light theme */\n",
       "  --sklearn-color-text-on-default-background: var(--sg-text-color, var(--theme-code-foreground, var(--jp-content-font-color1, black)));\n",
       "  --sklearn-color-background: var(--sg-background-color, var(--theme-background, var(--jp-layout-color0, white)));\n",
       "  --sklearn-color-border-box: var(--sg-text-color, var(--theme-code-foreground, var(--jp-content-font-color1, black)));\n",
       "  --sklearn-color-icon: #696969;\n",
       "\n",
       "  @media (prefers-color-scheme: dark) {\n",
       "    /* Redefinition of color scheme for dark theme */\n",
       "    --sklearn-color-text-on-default-background: var(--sg-text-color, var(--theme-code-foreground, var(--jp-content-font-color1, white)));\n",
       "    --sklearn-color-background: var(--sg-background-color, var(--theme-background, var(--jp-layout-color0, #111)));\n",
       "    --sklearn-color-border-box: var(--sg-text-color, var(--theme-code-foreground, var(--jp-content-font-color1, white)));\n",
       "    --sklearn-color-icon: #878787;\n",
       "  }\n",
       "}\n",
       "\n",
       "#sk-container-id-1 {\n",
       "  color: var(--sklearn-color-text);\n",
       "}\n",
       "\n",
       "#sk-container-id-1 pre {\n",
       "  padding: 0;\n",
       "}\n",
       "\n",
       "#sk-container-id-1 input.sk-hidden--visually {\n",
       "  border: 0;\n",
       "  clip: rect(1px 1px 1px 1px);\n",
       "  clip: rect(1px, 1px, 1px, 1px);\n",
       "  height: 1px;\n",
       "  margin: -1px;\n",
       "  overflow: hidden;\n",
       "  padding: 0;\n",
       "  position: absolute;\n",
       "  width: 1px;\n",
       "}\n",
       "\n",
       "#sk-container-id-1 div.sk-dashed-wrapped {\n",
       "  border: 1px dashed var(--sklearn-color-line);\n",
       "  margin: 0 0.4em 0.5em 0.4em;\n",
       "  box-sizing: border-box;\n",
       "  padding-bottom: 0.4em;\n",
       "  background-color: var(--sklearn-color-background);\n",
       "}\n",
       "\n",
       "#sk-container-id-1 div.sk-container {\n",
       "  /* jupyter's `normalize.less` sets `[hidden] { display: none; }`\n",
       "     but bootstrap.min.css set `[hidden] { display: none !important; }`\n",
       "     so we also need the `!important` here to be able to override the\n",
       "     default hidden behavior on the sphinx rendered scikit-learn.org.\n",
       "     See: https://github.com/scikit-learn/scikit-learn/issues/21755 */\n",
       "  display: inline-block !important;\n",
       "  position: relative;\n",
       "}\n",
       "\n",
       "#sk-container-id-1 div.sk-text-repr-fallback {\n",
       "  display: none;\n",
       "}\n",
       "\n",
       "div.sk-parallel-item,\n",
       "div.sk-serial,\n",
       "div.sk-item {\n",
       "  /* draw centered vertical line to link estimators */\n",
       "  background-image: linear-gradient(var(--sklearn-color-text-on-default-background), var(--sklearn-color-text-on-default-background));\n",
       "  background-size: 2px 100%;\n",
       "  background-repeat: no-repeat;\n",
       "  background-position: center center;\n",
       "}\n",
       "\n",
       "/* Parallel-specific style estimator block */\n",
       "\n",
       "#sk-container-id-1 div.sk-parallel-item::after {\n",
       "  content: \"\";\n",
       "  width: 100%;\n",
       "  border-bottom: 2px solid var(--sklearn-color-text-on-default-background);\n",
       "  flex-grow: 1;\n",
       "}\n",
       "\n",
       "#sk-container-id-1 div.sk-parallel {\n",
       "  display: flex;\n",
       "  align-items: stretch;\n",
       "  justify-content: center;\n",
       "  background-color: var(--sklearn-color-background);\n",
       "  position: relative;\n",
       "}\n",
       "\n",
       "#sk-container-id-1 div.sk-parallel-item {\n",
       "  display: flex;\n",
       "  flex-direction: column;\n",
       "}\n",
       "\n",
       "#sk-container-id-1 div.sk-parallel-item:first-child::after {\n",
       "  align-self: flex-end;\n",
       "  width: 50%;\n",
       "}\n",
       "\n",
       "#sk-container-id-1 div.sk-parallel-item:last-child::after {\n",
       "  align-self: flex-start;\n",
       "  width: 50%;\n",
       "}\n",
       "\n",
       "#sk-container-id-1 div.sk-parallel-item:only-child::after {\n",
       "  width: 0;\n",
       "}\n",
       "\n",
       "/* Serial-specific style estimator block */\n",
       "\n",
       "#sk-container-id-1 div.sk-serial {\n",
       "  display: flex;\n",
       "  flex-direction: column;\n",
       "  align-items: center;\n",
       "  background-color: var(--sklearn-color-background);\n",
       "  padding-right: 1em;\n",
       "  padding-left: 1em;\n",
       "}\n",
       "\n",
       "\n",
       "/* Toggleable style: style used for estimator/Pipeline/ColumnTransformer box that is\n",
       "clickable and can be expanded/collapsed.\n",
       "- Pipeline and ColumnTransformer use this feature and define the default style\n",
       "- Estimators will overwrite some part of the style using the `sk-estimator` class\n",
       "*/\n",
       "\n",
       "/* Pipeline and ColumnTransformer style (default) */\n",
       "\n",
       "#sk-container-id-1 div.sk-toggleable {\n",
       "  /* Default theme specific background. It is overwritten whether we have a\n",
       "  specific estimator or a Pipeline/ColumnTransformer */\n",
       "  background-color: var(--sklearn-color-background);\n",
       "}\n",
       "\n",
       "/* Toggleable label */\n",
       "#sk-container-id-1 label.sk-toggleable__label {\n",
       "  cursor: pointer;\n",
       "  display: block;\n",
       "  width: 100%;\n",
       "  margin-bottom: 0;\n",
       "  padding: 0.5em;\n",
       "  box-sizing: border-box;\n",
       "  text-align: center;\n",
       "}\n",
       "\n",
       "#sk-container-id-1 label.sk-toggleable__label-arrow:before {\n",
       "  /* Arrow on the left of the label */\n",
       "  content: \"▸\";\n",
       "  float: left;\n",
       "  margin-right: 0.25em;\n",
       "  color: var(--sklearn-color-icon);\n",
       "}\n",
       "\n",
       "#sk-container-id-1 label.sk-toggleable__label-arrow:hover:before {\n",
       "  color: var(--sklearn-color-text);\n",
       "}\n",
       "\n",
       "/* Toggleable content - dropdown */\n",
       "\n",
       "#sk-container-id-1 div.sk-toggleable__content {\n",
       "  max-height: 0;\n",
       "  max-width: 0;\n",
       "  overflow: hidden;\n",
       "  text-align: left;\n",
       "  /* unfitted */\n",
       "  background-color: var(--sklearn-color-unfitted-level-0);\n",
       "}\n",
       "\n",
       "#sk-container-id-1 div.sk-toggleable__content.fitted {\n",
       "  /* fitted */\n",
       "  background-color: var(--sklearn-color-fitted-level-0);\n",
       "}\n",
       "\n",
       "#sk-container-id-1 div.sk-toggleable__content pre {\n",
       "  margin: 0.2em;\n",
       "  border-radius: 0.25em;\n",
       "  color: var(--sklearn-color-text);\n",
       "  /* unfitted */\n",
       "  background-color: var(--sklearn-color-unfitted-level-0);\n",
       "}\n",
       "\n",
       "#sk-container-id-1 div.sk-toggleable__content.fitted pre {\n",
       "  /* unfitted */\n",
       "  background-color: var(--sklearn-color-fitted-level-0);\n",
       "}\n",
       "\n",
       "#sk-container-id-1 input.sk-toggleable__control:checked~div.sk-toggleable__content {\n",
       "  /* Expand drop-down */\n",
       "  max-height: 200px;\n",
       "  max-width: 100%;\n",
       "  overflow: auto;\n",
       "}\n",
       "\n",
       "#sk-container-id-1 input.sk-toggleable__control:checked~label.sk-toggleable__label-arrow:before {\n",
       "  content: \"▾\";\n",
       "}\n",
       "\n",
       "/* Pipeline/ColumnTransformer-specific style */\n",
       "\n",
       "#sk-container-id-1 div.sk-label input.sk-toggleable__control:checked~label.sk-toggleable__label {\n",
       "  color: var(--sklearn-color-text);\n",
       "  background-color: var(--sklearn-color-unfitted-level-2);\n",
       "}\n",
       "\n",
       "#sk-container-id-1 div.sk-label.fitted input.sk-toggleable__control:checked~label.sk-toggleable__label {\n",
       "  background-color: var(--sklearn-color-fitted-level-2);\n",
       "}\n",
       "\n",
       "/* Estimator-specific style */\n",
       "\n",
       "/* Colorize estimator box */\n",
       "#sk-container-id-1 div.sk-estimator input.sk-toggleable__control:checked~label.sk-toggleable__label {\n",
       "  /* unfitted */\n",
       "  background-color: var(--sklearn-color-unfitted-level-2);\n",
       "}\n",
       "\n",
       "#sk-container-id-1 div.sk-estimator.fitted input.sk-toggleable__control:checked~label.sk-toggleable__label {\n",
       "  /* fitted */\n",
       "  background-color: var(--sklearn-color-fitted-level-2);\n",
       "}\n",
       "\n",
       "#sk-container-id-1 div.sk-label label.sk-toggleable__label,\n",
       "#sk-container-id-1 div.sk-label label {\n",
       "  /* The background is the default theme color */\n",
       "  color: var(--sklearn-color-text-on-default-background);\n",
       "}\n",
       "\n",
       "/* On hover, darken the color of the background */\n",
       "#sk-container-id-1 div.sk-label:hover label.sk-toggleable__label {\n",
       "  color: var(--sklearn-color-text);\n",
       "  background-color: var(--sklearn-color-unfitted-level-2);\n",
       "}\n",
       "\n",
       "/* Label box, darken color on hover, fitted */\n",
       "#sk-container-id-1 div.sk-label.fitted:hover label.sk-toggleable__label.fitted {\n",
       "  color: var(--sklearn-color-text);\n",
       "  background-color: var(--sklearn-color-fitted-level-2);\n",
       "}\n",
       "\n",
       "/* Estimator label */\n",
       "\n",
       "#sk-container-id-1 div.sk-label label {\n",
       "  font-family: monospace;\n",
       "  font-weight: bold;\n",
       "  display: inline-block;\n",
       "  line-height: 1.2em;\n",
       "}\n",
       "\n",
       "#sk-container-id-1 div.sk-label-container {\n",
       "  text-align: center;\n",
       "}\n",
       "\n",
       "/* Estimator-specific */\n",
       "#sk-container-id-1 div.sk-estimator {\n",
       "  font-family: monospace;\n",
       "  border: 1px dotted var(--sklearn-color-border-box);\n",
       "  border-radius: 0.25em;\n",
       "  box-sizing: border-box;\n",
       "  margin-bottom: 0.5em;\n",
       "  /* unfitted */\n",
       "  background-color: var(--sklearn-color-unfitted-level-0);\n",
       "}\n",
       "\n",
       "#sk-container-id-1 div.sk-estimator.fitted {\n",
       "  /* fitted */\n",
       "  background-color: var(--sklearn-color-fitted-level-0);\n",
       "}\n",
       "\n",
       "/* on hover */\n",
       "#sk-container-id-1 div.sk-estimator:hover {\n",
       "  /* unfitted */\n",
       "  background-color: var(--sklearn-color-unfitted-level-2);\n",
       "}\n",
       "\n",
       "#sk-container-id-1 div.sk-estimator.fitted:hover {\n",
       "  /* fitted */\n",
       "  background-color: var(--sklearn-color-fitted-level-2);\n",
       "}\n",
       "\n",
       "/* Specification for estimator info (e.g. \"i\" and \"?\") */\n",
       "\n",
       "/* Common style for \"i\" and \"?\" */\n",
       "\n",
       ".sk-estimator-doc-link,\n",
       "a:link.sk-estimator-doc-link,\n",
       "a:visited.sk-estimator-doc-link {\n",
       "  float: right;\n",
       "  font-size: smaller;\n",
       "  line-height: 1em;\n",
       "  font-family: monospace;\n",
       "  background-color: var(--sklearn-color-background);\n",
       "  border-radius: 1em;\n",
       "  height: 1em;\n",
       "  width: 1em;\n",
       "  text-decoration: none !important;\n",
       "  margin-left: 1ex;\n",
       "  /* unfitted */\n",
       "  border: var(--sklearn-color-unfitted-level-1) 1pt solid;\n",
       "  color: var(--sklearn-color-unfitted-level-1);\n",
       "}\n",
       "\n",
       ".sk-estimator-doc-link.fitted,\n",
       "a:link.sk-estimator-doc-link.fitted,\n",
       "a:visited.sk-estimator-doc-link.fitted {\n",
       "  /* fitted */\n",
       "  border: var(--sklearn-color-fitted-level-1) 1pt solid;\n",
       "  color: var(--sklearn-color-fitted-level-1);\n",
       "}\n",
       "\n",
       "/* On hover */\n",
       "div.sk-estimator:hover .sk-estimator-doc-link:hover,\n",
       ".sk-estimator-doc-link:hover,\n",
       "div.sk-label-container:hover .sk-estimator-doc-link:hover,\n",
       ".sk-estimator-doc-link:hover {\n",
       "  /* unfitted */\n",
       "  background-color: var(--sklearn-color-unfitted-level-3);\n",
       "  color: var(--sklearn-color-background);\n",
       "  text-decoration: none;\n",
       "}\n",
       "\n",
       "div.sk-estimator.fitted:hover .sk-estimator-doc-link.fitted:hover,\n",
       ".sk-estimator-doc-link.fitted:hover,\n",
       "div.sk-label-container:hover .sk-estimator-doc-link.fitted:hover,\n",
       ".sk-estimator-doc-link.fitted:hover {\n",
       "  /* fitted */\n",
       "  background-color: var(--sklearn-color-fitted-level-3);\n",
       "  color: var(--sklearn-color-background);\n",
       "  text-decoration: none;\n",
       "}\n",
       "\n",
       "/* Span, style for the box shown on hovering the info icon */\n",
       ".sk-estimator-doc-link span {\n",
       "  display: none;\n",
       "  z-index: 9999;\n",
       "  position: relative;\n",
       "  font-weight: normal;\n",
       "  right: .2ex;\n",
       "  padding: .5ex;\n",
       "  margin: .5ex;\n",
       "  width: min-content;\n",
       "  min-width: 20ex;\n",
       "  max-width: 50ex;\n",
       "  color: var(--sklearn-color-text);\n",
       "  box-shadow: 2pt 2pt 4pt #999;\n",
       "  /* unfitted */\n",
       "  background: var(--sklearn-color-unfitted-level-0);\n",
       "  border: .5pt solid var(--sklearn-color-unfitted-level-3);\n",
       "}\n",
       "\n",
       ".sk-estimator-doc-link.fitted span {\n",
       "  /* fitted */\n",
       "  background: var(--sklearn-color-fitted-level-0);\n",
       "  border: var(--sklearn-color-fitted-level-3);\n",
       "}\n",
       "\n",
       ".sk-estimator-doc-link:hover span {\n",
       "  display: block;\n",
       "}\n",
       "\n",
       "/* \"?\"-specific style due to the `<a>` HTML tag */\n",
       "\n",
       "#sk-container-id-1 a.estimator_doc_link {\n",
       "  float: right;\n",
       "  font-size: 1rem;\n",
       "  line-height: 1em;\n",
       "  font-family: monospace;\n",
       "  background-color: var(--sklearn-color-background);\n",
       "  border-radius: 1rem;\n",
       "  height: 1rem;\n",
       "  width: 1rem;\n",
       "  text-decoration: none;\n",
       "  /* unfitted */\n",
       "  color: var(--sklearn-color-unfitted-level-1);\n",
       "  border: var(--sklearn-color-unfitted-level-1) 1pt solid;\n",
       "}\n",
       "\n",
       "#sk-container-id-1 a.estimator_doc_link.fitted {\n",
       "  /* fitted */\n",
       "  border: var(--sklearn-color-fitted-level-1) 1pt solid;\n",
       "  color: var(--sklearn-color-fitted-level-1);\n",
       "}\n",
       "\n",
       "/* On hover */\n",
       "#sk-container-id-1 a.estimator_doc_link:hover {\n",
       "  /* unfitted */\n",
       "  background-color: var(--sklearn-color-unfitted-level-3);\n",
       "  color: var(--sklearn-color-background);\n",
       "  text-decoration: none;\n",
       "}\n",
       "\n",
       "#sk-container-id-1 a.estimator_doc_link.fitted:hover {\n",
       "  /* fitted */\n",
       "  background-color: var(--sklearn-color-fitted-level-3);\n",
       "}\n",
       "</style><div id=\"sk-container-id-1\" class=\"sk-top-container\"><div class=\"sk-text-repr-fallback\"><pre>RandomForestClassifier(random_state=42)</pre><b>In a Jupyter environment, please rerun this cell to show the HTML representation or trust the notebook. <br />On GitHub, the HTML representation is unable to render, please try loading this page with nbviewer.org.</b></div><div class=\"sk-container\" hidden><div class=\"sk-item\"><div class=\"sk-estimator fitted sk-toggleable\"><input class=\"sk-toggleable__control sk-hidden--visually\" id=\"sk-estimator-id-1\" type=\"checkbox\" checked><label for=\"sk-estimator-id-1\" class=\"sk-toggleable__label fitted sk-toggleable__label-arrow fitted\">&nbsp;&nbsp;RandomForestClassifier<a class=\"sk-estimator-doc-link fitted\" rel=\"noreferrer\" target=\"_blank\" href=\"https://scikit-learn.org/1.5/modules/generated/sklearn.ensemble.RandomForestClassifier.html\">?<span>Documentation for RandomForestClassifier</span></a><span class=\"sk-estimator-doc-link fitted\">i<span>Fitted</span></span></label><div class=\"sk-toggleable__content fitted\"><pre>RandomForestClassifier(random_state=42)</pre></div> </div></div></div></div>"
      ],
      "text/plain": [
       "RandomForestClassifier(random_state=42)"
      ]
     },
     "execution_count": 52,
     "metadata": {},
     "output_type": "execute_result"
    }
   ],
   "source": [
    "from sklearn.ensemble import RandomForestClassifier\n",
    "\n",
    "# Crear el modelo\n",
    "model = RandomForestClassifier(n_estimators=100, random_state=42)\n",
    "\n",
    "# Entrenar el modelo\n",
    "model.fit(X_train, y_train)\n"
   ]
  },
  {
   "cell_type": "code",
   "execution_count": 53,
   "id": "eb22b998-5a42-4406-837a-af15a4b8b27e",
   "metadata": {
    "tags": []
   },
   "outputs": [],
   "source": [
    "y_pred = model.predict(X_test)\n"
   ]
  },
  {
   "cell_type": "code",
   "execution_count": 54,
   "id": "0d2c768b-87b5-4c4a-a24b-c13345752bb1",
   "metadata": {
    "tags": []
   },
   "outputs": [
    {
     "name": "stdout",
     "output_type": "stream",
     "text": [
      "              precision    recall  f1-score   support\n",
      "\n",
      "           0       1.00      1.00      1.00      1129\n",
      "           1       1.00      1.00      1.00     19071\n",
      "\n",
      "    accuracy                           1.00     20200\n",
      "   macro avg       1.00      1.00      1.00     20200\n",
      "weighted avg       1.00      1.00      1.00     20200\n",
      "\n"
     ]
    }
   ],
   "source": [
    "from sklearn.metrics import classification_report\n",
    "\n",
    "print(classification_report(y_test, y_pred))\n"
   ]
  },
  {
   "cell_type": "code",
   "execution_count": 58,
   "id": "3ac7e485-edf5-41a2-bf0f-2aea8fae4043",
   "metadata": {
    "tags": []
   },
   "outputs": [
    {
     "name": "stdout",
     "output_type": "stream",
     "text": [
      "                     Feature  Importance\n",
      "2                estado_Leve    0.858116\n",
      "0                       edad    0.075590\n",
      "3                 estado_N/A    0.059947\n",
      "6  tipo_contagio_Relacionado    0.004920\n",
      "1                     sexo_M    0.000941\n",
      "4   tipo_contagio_En estudio    0.000264\n",
      "5    tipo_contagio_Importado    0.000222\n"
     ]
    }
   ],
   "source": [
    "feature_importances = pd.DataFrame({\n",
    "    'Feature': X.columns,\n",
    "    'Importance': model.feature_importances_\n",
    "}).sort_values(by='Importance', ascending=False)\n",
    "\n",
    "print(feature_importances)\n",
    "\n",
    "\n"
   ]
  },
  {
   "cell_type": "code",
   "execution_count": 59,
   "id": "7524234a-ed7b-4bc9-a4c2-42da82c2e3ff",
   "metadata": {
    "tags": []
   },
   "outputs": [
    {
     "name": "stdout",
     "output_type": "stream",
     "text": [
      "              precision    recall  f1-score   support\n",
      "\n",
      "           0       0.78      0.29      0.42      1129\n",
      "           1       0.96      1.00      0.98     19071\n",
      "\n",
      "    accuracy                           0.96     20200\n",
      "   macro avg       0.87      0.64      0.70     20200\n",
      "weighted avg       0.95      0.96      0.95     20200\n",
      "\n"
     ]
    }
   ],
   "source": [
    "# Remover estado_Leve de las características\n",
    "X_reduced = X.drop('estado_Leve', axis=1)\n",
    "\n",
    "# Reentrenar el modelo\n",
    "X_train, X_test, y_train, y_test = train_test_split(X_reduced, y, test_size=0.2, random_state=42)\n",
    "\n",
    "model_reduced = RandomForestClassifier(n_estimators=100, random_state=42)\n",
    "model_reduced.fit(X_train, y_train)\n",
    "\n",
    "# Evaluar el modelo\n",
    "y_pred_reduced = model_reduced.predict(X_test)\n",
    "print(classification_report(y_test, y_pred_reduced))\n"
   ]
  },
  {
   "cell_type": "code",
   "execution_count": 61,
   "id": "49e6c4a6-e7ea-4e47-bd1d-face66f46f47",
   "metadata": {
    "tags": []
   },
   "outputs": [
    {
     "data": {
      "text/plain": [
       "['modelo_covid.pkl']"
      ]
     },
     "execution_count": 61,
     "metadata": {},
     "output_type": "execute_result"
    }
   ],
   "source": [
    "\n",
    "import joblib\n",
    "\n",
    "# Guardar el modelo en un archivo\n",
    "joblib.dump(model, 'modelo_covid.pkl')\n"
   ]
  },
  {
   "cell_type": "code",
   "execution_count": 64,
   "id": "bc9e8338-faad-447a-b006-31cc6836f723",
   "metadata": {
    "tags": []
   },
   "outputs": [],
   "source": [
    "import boto3\n",
    "\n",
    "bucket_name = 'p3-tet'\n",
    "s3_key = 'refined/modelo_covid.pkl'\n",
    "\n",
    "s3 = boto3.client('s3')\n",
    "s3.upload_file('modelo_covid.pkl', bucket_name, s3_key)\n"
   ]
  },
  {
   "cell_type": "code",
   "execution_count": 68,
   "id": "296290b3-6518-450a-bc25-58c34cd6a18a",
   "metadata": {
    "tags": []
   },
   "outputs": [
    {
     "data": {
      "text/plain": [
       "{'ResponseMetadata': {'RequestId': 'EP8VE3YXPN08QX2S',\n",
       "  'HostId': 'v+IFzBaUU1v4NnQy9nXkfTln5fg0h0rgvBMfC+Bdz8fhThjX1PBC2tafDGor1eCED8/uat31+Jc=',\n",
       "  'HTTPStatusCode': 200,\n",
       "  'HTTPHeaders': {'x-amz-id-2': 'v+IFzBaUU1v4NnQy9nXkfTln5fg0h0rgvBMfC+Bdz8fhThjX1PBC2tafDGor1eCED8/uat31+Jc=',\n",
       "   'x-amz-request-id': 'EP8VE3YXPN08QX2S',\n",
       "   'date': 'Sun, 24 Nov 2024 11:22:16 GMT',\n",
       "   'x-amz-server-side-encryption': 'AES256',\n",
       "   'etag': '\"100e3c01bcd094c4c2c6212da217ff7b\"',\n",
       "   'content-length': '0',\n",
       "   'server': 'AmazonS3'},\n",
       "  'RetryAttempts': 0},\n",
       " 'ETag': '\"100e3c01bcd094c4c2c6212da217ff7b\"',\n",
       " 'ServerSideEncryption': 'AES256'}"
      ]
     },
     "execution_count": 68,
     "metadata": {},
     "output_type": "execute_result"
    }
   ],
   "source": [
    "from io import StringIO\n",
    "\n",
    "refined_bucket = 'p3-tet'  # Reemplaza con el nombre de tu bucket\n",
    "refined_prefix = 'refined/analysis_results/'\n",
    "\n",
    "csv_buffer = StringIO()\n",
    "df.to_csv(csv_buffer, index=False)\n",
    "\n",
    "s3_resource = boto3.resource('s3')\n",
    "s3_resource.Object(refined_bucket, f'{refined_prefix}analisis_covid.csv').put(Body=csv_buffer.getvalue())\n"
   ]
  },
  {
   "cell_type": "code",
   "execution_count": null,
   "id": "70e0b3ee-a037-4217-b9eb-55213da5a44f",
   "metadata": {},
   "outputs": [],
   "source": []
  }
 ],
 "metadata": {
  "kernelspec": {
   "display_name": "conda_python3",
   "language": "python",
   "name": "conda_python3"
  },
  "language_info": {
   "codemirror_mode": {
    "name": "ipython",
    "version": 3
   },
   "file_extension": ".py",
   "mimetype": "text/x-python",
   "name": "python",
   "nbconvert_exporter": "python",
   "pygments_lexer": "ipython3",
   "version": "3.10.15"
  }
 },
 "nbformat": 4,
 "nbformat_minor": 5
}
